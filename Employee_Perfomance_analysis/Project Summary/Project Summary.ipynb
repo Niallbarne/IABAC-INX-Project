{
 "cells": [
  {
   "cell_type": "markdown",
   "id": "614c85bd",
   "metadata": {},
   "source": [
    "# Employee Performance Analysis"
   ]
  },
  {
   "cell_type": "code",
   "execution_count": null,
   "id": "69c6dac2",
   "metadata": {},
   "outputs": [],
   "source": [
    "#### INX Future Inc. \n",
    "\n",
    "Candidate Name      : Nihal Atul Barne\n",
    "Candidate E-Mail    : NiallBarne@gmail.com\n",
    "Project Code        : 10281\n",
    "REP Name            : DataMites™ Solutions Pvt Ltd\n",
    "Assesment ID        : E10901-PR2-V18\n",
    "Module              : Certified Data Scientist - Project\n",
    "Exam Format         : Open Project- IABAC™ Project Submission\n",
    "Project Assessment  : IABAC™ \n",
    "Registered Trainer  : Ashok Kumar A\n",
    "Submission Deadline Date:   06-Oct-2023\n",
    " \n"
   ]
  },
  {
   "cell_type": "markdown",
   "id": "16c34049",
   "metadata": {},
   "source": [
    "# Project Summary"
   ]
  },
  {
   "cell_type": "markdown",
   "id": "3217f2d6",
   "metadata": {},
   "source": [
    "INX Future Inc Employee Performance - Project"
   ]
  },
  {
   "cell_type": "markdown",
   "id": "ce340696",
   "metadata": {},
   "source": [
    "The provided data science project entails an in-depth examination of employee performance. Its primary objective is to determine the performance ratings of employees by considering various data attributes, including Total Work Experience in Years, Employee Department, Gender, Experience Years in Current Role, and more.\n",
    "\n",
    "The key objectives and findings of this project are outlined as follows:\n",
    "\n",
    "Analysis of Performance by Department:\n",
    "\n",
    "Evaluation of employee performance within different departments.\n",
    "Identification of Top Three Influential Factors on Employee Performance:\n",
    "\n",
    "Identifying the most significant factors that affect employee performance.\n",
    "Development of a Predictive Model:\n",
    "\n",
    "Creation of a trained model capable of forecasting employee performance based on input factors. This model will be employed in the employee recruitment process.\n",
    "Recommendations for Performance Enhancement:\n",
    "\n",
    "Providing actionable recommendations to enhance employee performance based on insights derived from the analysis."
   ]
  },
  {
   "cell_type": "markdown",
   "id": "efb9b281",
   "metadata": {},
   "source": [
    "The Employee dataset provided comprises a total of 1,200 rows and 28 columns. This dataset can be represented as having a shape of 1,200 rows by 28 columns. Within these 28 columns, the features can be categorized into two main types: quantitative and qualitative.\n",
    "\n",
    "Of these 28 features:\n",
    "\n",
    "19 features fall under the quantitative category. Among these, 11 columns contain numeric data, while the remaining 8 columns contain ordinal data.\n",
    "\n",
    "The remaining 8 features are classified as qualitative.\n",
    "\n",
    "It's important to note that the \"EmpNumber\" feature contains alphanumerical data with distinct values, but it is not considered a relevant feature for determining employee performance ratings and is excluded from the analysis."
   ]
  },
  {
   "cell_type": "markdown",
   "id": "83a5dacf",
   "metadata": {},
   "source": [
    "Correlation analysis is a valuable statistical technique that helps us identify significant relationships between different variables, in this case, between various features and the employee Performance Rating. It quantifies the degree of linear association between two variables.\n",
    "\n",
    "As part of the project's analysis, several stages have been undertaken to fulfill the project's objectives. These stages include:\n",
    "\n",
    "Distribution Analysis: This initial stage involved examining the distribution patterns of the data. It allowed us to understand the characteristics of each feature and how they are distributed within the dataset.\n",
    "\n",
    "Correlation Analysis: This phase focused on calculating and assessing the correlation between the different features and the Performance Rating. By doing so, we were able to identify which features have a strong or weak linear relationship with the employees' performance ratings.\n",
    "\n",
    "Departmental Analysis: Additionally, the dataset was analyzed based on different departments. This approach allowed us to explore performance variations across various departments within the organization and gain department-specific insights.\n",
    "\n",
    "These stages collectively contribute to achieving the project's overarching goal of understanding the factors influencing employee performance ratings and providing valuable insights for decision-making."
   ]
  },
  {
   "cell_type": "markdown",
   "id": "75353276",
   "metadata": {},
   "source": [
    "The dataset consists of Categorical data and Numerical data. The Machine Learning model which works well for categorical data is Random Forest Classifier.Target variable consist of ordinal data, so this is  a classification problem he machine learning model which is used in this project is Random Forest Classifier which predicts higher accuracy 94%."
   ]
  },
  {
   "cell_type": "markdown",
   "id": "df10e6dc",
   "metadata": {},
   "source": [
    "An essential objective of this project is to identify the key factors that influence employee performance ratings. To accomplish this, we employed a machine learning technique known as feature importance analysis. This method allowed us to determine which features have the most significant impact on performance ratings.\n",
    "\n",
    "During the data preprocessing phase, we primarily utilized the Label Encoding method. This technique was instrumental in transforming categorical data represented as strings into a numerical format. The reason behind this choice lies in the fact that the majority of machine learning algorithms are designed to work with numerical data. By converting categorical variables into numerical equivalents, we ensured that the data was compatible with various machine learning methods.\n",
    "\n",
    "The project as a whole successfully reached its objectives through a combination of machine learning models and visualization techniques. These tools and methods collectively enabled us to gain insights into the important factors driving employee performance ratings, ultimately contributing to the project's success."
   ]
  },
  {
   "cell_type": "markdown",
   "id": "b46fd3e5",
   "metadata": {},
   "source": [
    "# 1. Requirement"
   ]
  },
  {
   "cell_type": "markdown",
   "id": "b122fb87",
   "metadata": {},
   "source": [
    "The dataset used in this project was provided by IABAC, and the data source is IABAC™. This dataset is centered around INX Future Inc, which is a prominent player in the field of data analytics and automation solutions. With a global business presence spanning over 15 years, INX has consistently received recognition as one of the top 20 best employers for the past 5 years. It's important to note that the data used in this project is not derived from a real-world organization but is rather a simulated dataset.\n",
    "\n",
    "The entire project was executed within a Jupyter Notebook, leveraging the Python programming platform for analysis and modeling. This combination of tools and technologies facilitated the successful completion of the project's objectives."
   ]
  },
  {
   "cell_type": "markdown",
   "id": "ecd0fca7",
   "metadata": {},
   "source": [
    "# 2. Analysis"
   ]
  },
  {
   "cell_type": "markdown",
   "id": "9f3037f1",
   "metadata": {},
   "source": [
    "The analysis of the dataset began with a thorough examination and description of its features, which play a pivotal role in our understanding of the data. These features serve as a crucial bridge, revealing relationships between dependent and independent variables. To facilitate this exploration, the Pandas library was instrumental in providing insights and addressing key questions at the outset of our project.\n",
    "\n",
    "The dataset is composed of both numerical and categorical data, each category serving a unique role in characterizing the data. Here, we focus on the categorical features, which group the samples into sets of similar observations. Within the realm of categorical features, values can take on various characteristics, such as nominal, ordinal, ratio, or interval-based. The categorical features in our dataset include:\n",
    "\n",
    "EmpNumber\n",
    "Gender\n",
    "EducationBackground\n",
    "MaritalStatus\n",
    "EmpDepartment\n",
    "EmpJobRole\n",
    "BusinessTravelFrequency\n",
    "OverTime\n",
    "Attrition\n",
    "These categorical features provide valuable insights into the categorization and differentiation of data points, laying the foundation for deeper analysis and understanding of the dataset."
   ]
  },
  {
   "cell_type": "markdown",
   "id": "b45d46e8",
   "metadata": {},
   "source": [
    "## Numerical Features\n",
    "These values change from sample to sample. Within numerical features the values are discrete, ordinal, continuous, or timeseries based. The Numerical Features as follows:\n",
    "* Age\n",
    "* DistanceFromHome\n",
    "* EmpHourlyRate\n",
    "* NumCompaniesWorked\n",
    "* EmpLastSalaryHikePercent\n",
    "* TotalWorkExperienceInYears\n",
    "* TrainingTimesLastYear\n",
    "* ExperienceYearsAtThisCompany\n",
    "* ExperienceYearsInCurrentRole\n",
    "* YearsSinceLastPromotion\n",
    "* YearsWithCurrManager"
   ]
  },
  {
   "cell_type": "markdown",
   "id": "bf695f5d",
   "metadata": {},
   "source": [
    "## Ordinal Features\n",
    "* EmpEducationLevel\n",
    "* EmpEnvironmentSatisfaction\n",
    "* EmpJobInvolvement\n",
    "* EmpJobLevel\n",
    "* EmpJobSatisfaction\n",
    "* EmpRelationshipSatisfaction\n",
    "* EmpWorkLifeBalance\n",
    "* PerformanceRating"
   ]
  },
  {
   "cell_type": "markdown",
   "id": "d608cdc4",
   "metadata": {},
   "source": [
    "## Alphanumeric Features\n",
    "Numerical, alphanumeric data within same feature. EmpNumber is a mix of numeric and alphanumeric data types. Within aphanumeric feature the values are distinct (unique)."
   ]
  },
  {
   "cell_type": "markdown",
   "id": "56c9b956",
   "metadata": {},
   "source": [
    "## Distribution of Numerical Features\n",
    "The analysis of the distribution of numerical features serves as a valuable tool for gaining early insights into the representativeness of our training dataset within the context of the real-world problem domain. By visualizing the distribution, we can uncover important patterns and trends among the numerical and categorical attributes present in our data.\n",
    "\n",
    "Here are some key observations regarding the distribution of numerical features:\n",
    "\n",
    "Age Distribution: The age of employees in our dataset spans from 18 to 60 years. A notable concentration of employees falls within the age range of 30 to 40 years, indicating a significant proportion of middle-aged workers in the company.\n",
    "\n",
    "Previous Companies Worked: We observe that employees have previously worked at multiple companies, with some having experience at up to 8 different companies before joining this organization. However, a majority of employees have worked at only 1 or 2 companies prior to their current employment here.\n",
    "\n",
    "Hourly Rate Range: The hourly rate for most employees falls within the range of 65 to 95 units. This range represents the typical hourly compensation for the majority of the workforce in the company.\n",
    "\n",
    "Tenure in the Company: On average, most employees have a tenure of up to 5 years in this company, indicating a reasonable level of stability in the workforce.\n",
    "\n",
    "Salary Hike Percentage: A substantial portion of employees receive a salary hike in the range of 11% to 15%. This suggests that this range is prevalent within the company's salary hike policy.\n",
    "\n",
    "These insights into the distribution of numerical features provide a foundational understanding of the dataset and offer early indications of the dataset's characteristics within the context of the problem domain."
   ]
  },
  {
   "cell_type": "markdown",
   "id": "1aa03cef",
   "metadata": {},
   "source": [
    "## Check for Normal Distribution\n",
    "* Checking weather the data is Normally distributed or Not with Skewness and Kurtosis, By defining a funtion\n",
    "* YearsSinceLastPromotion, This column is skewed\n",
    "* Range of skewness & kurtosis, S< |1.96|\n",
    "* skewness for YearsSinceLastPromotion: 1.9724620367914252\n",
    "* kurtosis for YearsSinceLastPromotion: 3.5193552691799805"
   ]
  },
  {
   "cell_type": "markdown",
   "id": "7318b018",
   "metadata": {},
   "source": [
    "### Operation on Skewed Data for Machine Learning\n",
    "* Skewed data is common in data science: skew is the degree of distortion from a normal distribution.<br>\n",
    "\n",
    "### Square Root Transformation\n",
    "* Square root transformation is one of the many types of standard transformations.This transformation is used for count data (data that follow a Poisson distribution) or small whole numbers. Each data point is replaced by its square root. Negative data is converted to positive by adding a constant, and then transformed."
   ]
  },
  {
   "cell_type": "markdown",
   "id": "acc86fb2",
   "metadata": {},
   "source": [
    "## Distribution of Categorical Features\n",
    "Analyzing the distribution of categorical features provides essential insights into the composition and characteristics of different attributes within the dataset. Here are some key observations regarding the distribution of categorical features:\n",
    "\n",
    "Gender: The gender distribution within the company is skewed, with approximately 60% of the employees being male and the remaining 40% being female.\n",
    "\n",
    "Educational Background: The dataset encompasses employees with diverse educational backgrounds, representing six unique backgrounds.\n",
    "\n",
    "Employee Job Roles: A wide variety of job roles are represented in the dataset, with a total of nineteen unique roles observed within the company.\n",
    "\n",
    "Education Level: The majority of employees in the company hold an education level classified as \"Bachelor level.\"\n",
    "\n",
    "Job Satisfaction: The analysis reveals that a significant proportion of employees report a high level of job satisfaction, indicating overall contentment in their roles.\n",
    "\n",
    "Attrition: Approximately 85% of the employees in the dataset do not have records of attrition, suggesting a relatively stable workforce.\n",
    "\n",
    "Performance Rating: Only a minority of employees (11%) in the company have achieved an \"Outstanding\" performance rating, indicating that such ratings are not common within the organization.\n",
    "\n",
    "Overtime: Around 30% of the employees in the company engage in overtime work, highlighting the prevalence of this practice among the workforce.\n",
    "\n",
    "These insights into the distribution of categorical features shed light on the composition of the employee dataset, revealing various aspects of the company's workforce, including demographics, job roles, education, and job satisfaction levels."
   ]
  },
  {
   "cell_type": "markdown",
   "id": "7f090968",
   "metadata": {},
   "source": [
    "## Data Cleaning\n",
    "Data cleaning and wrangling represent crucial stages in any data science project, as they play a pivotal role in ensuring the overall quality and accuracy of the model. These stages are essential for handling damaged or missing data, which, if left unaddressed, can adversely affect the reliability of the model's results.\n",
    "\n",
    "In some fortunate cases, like the one at hand, the dataset is already well-structured and devoid of missing data. When the data is in such a pristine state, the need for extensive data cleaning is minimized. This not only expedites the workflow but also contributes to the overall efficiency of the project.\n",
    "\n",
    "In summary, data cleaning is a critical component of the data science process, but it is heartening to note that, in this particular instance, the given data is well-structured and free from any missing values, which is a significant advantage in ensuring the quality and reliability of subsequent analyses and modeling efforts."
   ]
  },
  {
   "cell_type": "markdown",
   "id": "71cf2c9d",
   "metadata": {},
   "source": [
    "## Data Preprocessing\n",
    "Data preprocessing is a fundamental data mining technique aimed at converting raw data into a more structured and understandable format. Real-world data is often riddled with issues such as incompleteness, inconsistency, and errors, making it imperative to engage in data preprocessing to address these challenges effectively.\n",
    "\n",
    "In the course of data preprocessing, it was observed that outliers are present in several features. These outliers were identified in the following attributes:\n",
    "\n",
    "NumCompaniesWorked\n",
    "TotalWorkExperienceInYears\n",
    "TrainingTimesLastYear\n",
    "ExperienceYearsAtThisCompany\n",
    "ExperienceYearsInCurrentRole\n",
    "YearsWithCurrManager\n",
    "The presence of outliers in these features suggests that certain data points fall significantly outside the typical range of values. Managing these outliers is a critical step in data preprocessing, as they can potentially skew results and impact the performance of machine learning models. Therefore, addressing these outliers appropriately is essential to ensure the integrity and accuracy of subsequent analyses and modeling efforts."
   ]
  },
  {
   "cell_type": "markdown",
   "id": "a74ca1a8",
   "metadata": {},
   "source": [
    "## Analysis by Visualization\n",
    "In this project, we leveraged two powerful visualization techniques to gain insights into the dataset:\n",
    "\n",
    "## 1. Distribution Plot\n",
    "The distribution plot is a valuable tool for gaining an initial understanding of how the data is distributed across different features. We used the distplot function from the Seaborn plotting library to visualize the density of data. This was done for both numerical and categorical features, allowing us to grasp an overall idea of the data distribution.\n",
    "\n",
    "Some key takeaways from the distribution plots:\n",
    "\n",
    "These plots provide a visual representation of the density and distribution of data, offering insights into the majority of data points at various levels.\n",
    "They help us understand how different features interact and are distributed relative to one another.\n",
    "## 2. Correlation Analysis\n",
    "Correlation analysis, represented by the correlation barplot, offers a comprehensive view of the relationships between features. We employed the Pearson Correlation values, which measure the linear correlation between pairs of numerical features in the dataset.\n",
    "\n",
    "Key insights from the correlation analysis:\n",
    "\n",
    "The highest correlation is observed between \"Total years of experience\" and \"Job level,\" suggesting that employees with more years of experience tend to have higher job levels.\n",
    "\"Experience years at this company\" and \"Years with the current manager\" exhibit a strong positive correlation, indicating that employees who have been with the company longer tend to have longer relationships with their current managers.\n",
    "There is a notable correlation between \"Experience years at this company\" and \"Experience in the current role,\" which is logically expected.\n",
    "The correlation between \"Total years of experience\" and \"Promotion in the last five years\" suggests that employees with more experience have a higher likelihood of receiving promotions.\n",
    "Age plays a significant role in an employee's total years of work experience, aligning with the common understanding that as employees age, their work experience typically increases.\n",
    "These insights, derived from both distribution plots and correlation analysis, provide a comprehensive understanding of the dataset and contribute to informed decision-making and further analysis in the project."
   ]
  },
  {
   "cell_type": "markdown",
   "id": "3a52a933",
   "metadata": {},
   "source": [
    "# Machine Learning Model\n",
    "The machine learning models used in this project are\n",
    "\n",
    "1. Support vector Machine\n",
    "2. Random Forest classifier\n",
    "\n",
    "Both machine learning algorithms are best for classification and labelled data. The train and test data are divided and fitted into the model and passed through the machine learning. Since we have already noted the severe imbalance in the values within the target variable, we implement the SMOTE method in the dealing with this skewed value via the learn Python package. The predicted data and test data achieved the accuracy rate of,\n",
    "\n",
    "* Extra Trees Classifier: 82%\n",
    "* Random Forest classifier: 94%"
   ]
  },
  {
   "cell_type": "markdown",
   "id": "2c8a53da",
   "metadata": {},
   "source": [
    "# Summary\n",
    "In this project, we have successfully developed and applied a machine learning model, which has been trained and tested to achieve a certain level of accuracy. The ultimate goal of this project was to extract meaningful insights from the data and utilize machine learning techniques to accomplish specific objectives.\n",
    "\n",
    "The key takeaways and accomplishments of this project revolve around the results obtained through data analysis, visualization, and machine learning modeling. These results have provided valuable insights into various aspects of the dataset and have allowed us to achieve our project objectives.\n",
    "\n",
    "In summary, the success of this project is measured not only by the machine learning model's accuracy but also by the wealth of insights and knowledge gained through the analysis process. These insights can inform decision-making, guide future actions, and contribute to a deeper understanding of the underlying factors influencing employee performance ratings and related outcomes."
   ]
  },
  {
   "cell_type": "markdown",
   "id": "2aec22db",
   "metadata": {},
   "source": [
    "## Goal 1: Department-wise Performances\n",
    "In our pursuit of analyzing department-wise performances, we delved into the data to gain insights from each department category. The data frame was segmented or filtered based on employee departments, revealing performance trends specific to each.\n",
    "\n",
    "Here are the department-wise performance analyses:\n",
    "\n",
    "Sales Department:\n",
    "Excellent performance is notably prevalent in the Sales department.\n",
    "Male employees tend to have slightly higher performance ratings compared to female employees in this department.\n",
    "Surprisingly, total work experience does not seem to significantly influence performance ratings in the Sales department.\n",
    "Human Resources Department:\n",
    "The majority of employees in the Human Resources department achieve excellent performance.\n",
    "Older employees, however, tend to perform at a lower level in this department.\n",
    "Female employees in HR consistently exhibit strong performance.\n",
    "In contrast to Sales, here, the total work experience appears to be an important factor affecting performance.\n",
    "Development Department:\n",
    "The Development department boasts the largest number of excellent performers.\n",
    "Performance levels in Development do not show a strong correlation with age; employees of all ages excel.\n",
    "Gender-based performance is relatively balanced in this department.\n",
    "Data Science Department:\n",
    "The Data Science department showcases the highest average performance rating, with a significant number of employees achieving excellence.\n",
    "Interestingly, Data Science has fewer employees categorized as \"Good\" performers compared to other departments.\n",
    "Age does not appear to significantly influence performance in this department.\n",
    "Male employees excel in Data Science, and the number of years of work experience is a contributing factor to performance, similar to HR.\n",
    "Research & Development Department:\n",
    "In the Research & Development department, performance levels are consistent across different age groups.\n",
    "R&D employs a strong contingent of female employees who perform well.\n",
    "Finance Department:\n",
    "The Finance department demonstrates a notable decrease in performance as employees age.\n",
    "Male employees tend to excel in the Finance department.\n",
    "Intriguingly, performance levels appear to be inversely related to the number of years of work experience.\n",
    "These department-wise insights provide a detailed understanding of how various factors, including gender, age, and work experience, influence employee performance ratings in different organizational departments."
   ]
  },
  {
   "cell_type": "markdown",
   "id": "42ea5c07",
   "metadata": {},
   "source": [
    "## 2. Top 3 Important Factors effecting employee performance"
   ]
  },
  {
   "cell_type": "markdown",
   "id": "10588026",
   "metadata": {},
   "source": [
    "Top Three Important Features Affecting Performance Rating\n",
    "In our analysis, we utilized two distinct techniques, the feature importance attribute in scikit-learn and the correlation barplot, to determine the most influential features affecting performance ratings. Remarkably, both techniques converged on the same set of top three important features, highlighting their significance in understanding and predicting performance ratings. These key features, ordered by their level of importance, are as follows:\n",
    "\n",
    "Employment Environment Satisfaction: This feature emerges as the most influential factor in determining performance ratings. A positive employment environment satisfaction significantly contributes to higher performance ratings.\n",
    "\n",
    "Employee Salary Hike Percentage: The extent of the salary hike received by employees holds substantial importance. A higher percentage of salary hike is associated with better performance ratings.\n",
    "\n",
    "Experience Years In Current Role: The duration of an employee's experience in their current role is also a crucial determinant of performance. More experienced employees in their current roles tend to receive higher performance ratings.\n",
    "\n",
    "These findings shed light on the critical factors that organizations should consider when assessing and enhancing employee performance. By focusing on factors such as employment environment satisfaction, salary hike percentages, and experience in the current role, organizations can make informed decisions to optimize performance and drive employee success."
   ]
  },
  {
   "cell_type": "markdown",
   "id": "742b6b87",
   "metadata": {},
   "source": [
    "## Goal 3: A Trained model which can predict the employee performance\n",
    "The trained model is created using the machine learning algorithm as follows with the accuracy score,\n",
    "\n",
    "* Extra Trees Classifier: 82% accuracy\n",
    "* Random Forest classifier: 94% accuracy"
   ]
  },
  {
   "cell_type": "markdown",
   "id": "2f1ccd31",
   "metadata": {},
   "source": [
    "## Goal 4: Recommendations to Improve Employee Performance\n",
    "Based on our analysis and insights, we can provide several recommendations to enhance employee performance within the organization:\n",
    "\n",
    "Prioritize Employee Environment Satisfaction: Foster a positive work environment that prioritizes employee satisfaction. Address concerns, provide support, and create a workplace where employees feel valued and motivated.\n",
    "\n",
    "Salary Hike and Incentives: Consider implementing competitive salary hike and incentive programs to reward high-performing employees. This not only boosts their morale but also serves as a financial motivation to excel.\n",
    "\n",
    "Promotion Opportunities: Offer advancement and promotion opportunities to employees who demonstrate exceptional performance. This encourages employees to take on greater responsibilities and develop leadership skills.\n",
    "\n",
    "Revise Experience Years in Current Role: When hiring new employees, assess the required experience years in their current roles. A more balanced approach to experience requirements can attract a wider pool of talent.\n",
    "\n",
    "Work-Life Balance: Promote work-life balance by offering flexible work arrangements and wellness programs. A balanced life contributes to improved job satisfaction and performance.\n",
    "\n",
    "Recruitment Emphasis on HR: Consider recruiting more female candidates in HR roles, as the analysis suggests they tend to perform well in this department.\n",
    "\n",
    "Leverage High-Performing Departments: Recognize that the Development and Sales departments have consistently higher performance. Analyze what makes these departments successful and apply relevant practices to other areas.\n",
    "\n",
    "Focus on Low & Medium Job Satisfaction and Relationship Satisfaction: Pay special attention to employees who provide feedback indicating low or medium levels of job satisfaction and relationship satisfaction but achieve excellent performance. Understand their unique needs and challenges to further improve their performance and job satisfaction.\n",
    "\n",
    "By implementing these recommendations, the organization can work towards fostering a conducive work environment, motivating employees, and optimizing their performance, ultimately contributing to the overall success of the company."
   ]
  }
 ],
 "metadata": {
  "kernelspec": {
   "display_name": "Python 3 (ipykernel)",
   "language": "python",
   "name": "python3"
  },
  "language_info": {
   "codemirror_mode": {
    "name": "ipython",
    "version": 3
   },
   "file_extension": ".py",
   "mimetype": "text/x-python",
   "name": "python",
   "nbconvert_exporter": "python",
   "pygments_lexer": "ipython3",
   "version": "3.10.9"
  }
 },
 "nbformat": 4,
 "nbformat_minor": 5
}
